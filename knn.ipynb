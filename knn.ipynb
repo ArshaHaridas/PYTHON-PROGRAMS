{
  "nbformat": 4,
  "nbformat_minor": 0,
  "metadata": {
    "colab": {
      "name": "knn.ipynb",
      "provenance": [],
      "authorship_tag": "ABX9TyPyV5dhKV4pAWeKac0HuMoj",
      "include_colab_link": true
    },
    "kernelspec": {
      "name": "python3",
      "display_name": "Python 3"
    },
    "language_info": {
      "name": "python"
    }
  },
  "cells": [
    {
      "cell_type": "markdown",
      "metadata": {
        "id": "view-in-github",
        "colab_type": "text"
      },
      "source": [
        "<a href=\"https://colab.research.google.com/github/ArshaHaridas/PYTHON-PROGRAMS/blob/main/knn.ipynb\" target=\"_parent\"><img src=\"https://colab.research.google.com/assets/colab-badge.svg\" alt=\"Open In Colab\"/></a>"
      ]
    },
    {
      "cell_type": "code",
      "metadata": {
        "id": "1QlDix33pDVW"
      },
      "source": [
        "from sklearn.neighbors import KNeighborsClassifier\n",
        "from sklearn.model_selection import train_test_split\n"
      ],
      "execution_count": 6,
      "outputs": []
    },
    {
      "cell_type": "code",
      "metadata": {
        "id": "W8yVzvShpVLY"
      },
      "source": [
        "from sklearn.datasets import load_digits\n",
        "a=load_digits()\n",
        "X=a.data\n",
        "y=a.target\n",
        "X_train,X_test,y_train,y_test=train_test_split(X,y,test_size=0.30)\n"
      ],
      "execution_count": 7,
      "outputs": []
    },
    {
      "cell_type": "code",
      "metadata": {
        "colab": {
          "base_uri": "https://localhost:8080/"
        },
        "id": "ed4QoRw2pe5Q",
        "outputId": "87989c89-3f2c-49aa-8154-3a4e68d67105"
      },
      "source": [
        "knn=KNeighborsClassifier(n_neighbors=6)\n",
        "knn.fit(X_train,y_train)\n"
      ],
      "execution_count": 9,
      "outputs": [
        {
          "output_type": "execute_result",
          "data": {
            "text/plain": [
              "KNeighborsClassifier(n_neighbors=6)"
            ]
          },
          "metadata": {},
          "execution_count": 9
        }
      ]
    },
    {
      "cell_type": "code",
      "metadata": {
        "colab": {
          "base_uri": "https://localhost:8080/"
        },
        "id": "KS115JPlp1xG",
        "outputId": "8120a2cb-e8ce-42fe-e92b-854236e69c7e"
      },
      "source": [
        "p=(knn.predict(X_test))\n",
        "print(p)\n"
      ],
      "execution_count": 10,
      "outputs": [
        {
          "output_type": "stream",
          "name": "stdout",
          "text": [
            "[4 4 9 0 1 0 1 2 5 9 5 6 5 6 7 0 3 7 8 5 1 2 0 9 1 3 8 0 3 4 9 7 8 6 1 9 7\n",
            " 9 2 7 8 7 8 8 2 5 4 8 2 3 5 9 6 3 9 4 8 1 6 6 1 2 6 3 0 0 8 8 9 1 7 6 7 7\n",
            " 0 4 6 5 9 2 2 8 4 1 3 8 6 9 9 6 2 6 4 3 6 3 4 0 7 6 5 1 8 4 5 2 2 3 8 9 3\n",
            " 5 8 3 7 8 8 2 3 1 7 4 0 6 3 0 0 5 9 4 5 3 9 7 7 8 6 5 8 8 4 0 8 7 2 4 2 4\n",
            " 3 5 1 5 8 6 3 3 8 9 9 4 8 8 5 6 4 5 5 1 4 6 0 5 3 0 0 8 0 7 4 2 0 4 0 2 5\n",
            " 2 6 5 1 3 7 1 8 0 9 5 9 5 5 5 9 6 4 7 7 5 8 6 3 1 9 0 7 9 4 5 9 3 7 3 4 5\n",
            " 7 0 0 5 6 2 0 4 4 0 0 3 5 7 4 7 0 6 4 2 5 6 4 0 0 9 5 3 0 0 0 5 9 9 2 6 1\n",
            " 8 2 6 2 8 4 1 0 5 9 5 4 2 4 2 1 9 3 8 3 2 2 3 6 0 1 3 7 2 1 0 8 3 3 3 1 2\n",
            " 7 4 6 4 2 7 6 6 7 9 9 5 9 0 1 3 7 7 2 8 8 7 1 3 3 3 0 7 4 8 7 4 2 5 6 2 0\n",
            " 5 4 6 0 0 3 2 0 1 7 5 5 3 9 9 6 7 9 1 9 1 0 2 2 4 9 5 3 9 0 2 1 2 6 0 8 3\n",
            " 1 0 5 6 7 8 4 7 5 6 6 6 7 7 0 2 0 9 1 5 0 3 1 8 0 3 2 8 0 1 7 8 7 9 5 1 4\n",
            " 9 1 4 9 0 5 7 2 9 0 0 4 9 4 0 5 5 7 1 0 3 8 5 3 4 5 2 2 6 7 6 0 2 4 8 1 2\n",
            " 1 9 3 8 1 1 1 3 7 6 0 9 4 5 7 6 7 9 2 6 3 8 5 9 5 2 9 2 8 6 9 8 3 2 5 7 6\n",
            " 2 5 7 4 0 5 2 2 1 4 8 0 2 1 7 4 7 3 7 6 8 1 3 8 2 8 3 1 5 4 0 9 9 6 5 5 7\n",
            " 4 7 7 0 5 7 4 5 8 6 2 2 1 7 4 1 1 1 3 4 9 9]\n"
          ]
        }
      ]
    },
    {
      "cell_type": "code",
      "metadata": {
        "colab": {
          "base_uri": "https://localhost:8080/"
        },
        "id": "XFy_LWtXp-6F",
        "outputId": "de815bb4-2c88-460a-bf43-9053381a3a03"
      },
      "source": [
        "print(knn.predict(X_test))\n",
        "print(knn.score(X_test,y_test))\n",
        "\n"
      ],
      "execution_count": 11,
      "outputs": [
        {
          "output_type": "stream",
          "name": "stdout",
          "text": [
            "[4 4 9 0 1 0 1 2 5 9 5 6 5 6 7 0 3 7 8 5 1 2 0 9 1 3 8 0 3 4 9 7 8 6 1 9 7\n",
            " 9 2 7 8 7 8 8 2 5 4 8 2 3 5 9 6 3 9 4 8 1 6 6 1 2 6 3 0 0 8 8 9 1 7 6 7 7\n",
            " 0 4 6 5 9 2 2 8 4 1 3 8 6 9 9 6 2 6 4 3 6 3 4 0 7 6 5 1 8 4 5 2 2 3 8 9 3\n",
            " 5 8 3 7 8 8 2 3 1 7 4 0 6 3 0 0 5 9 4 5 3 9 7 7 8 6 5 8 8 4 0 8 7 2 4 2 4\n",
            " 3 5 1 5 8 6 3 3 8 9 9 4 8 8 5 6 4 5 5 1 4 6 0 5 3 0 0 8 0 7 4 2 0 4 0 2 5\n",
            " 2 6 5 1 3 7 1 8 0 9 5 9 5 5 5 9 6 4 7 7 5 8 6 3 1 9 0 7 9 4 5 9 3 7 3 4 5\n",
            " 7 0 0 5 6 2 0 4 4 0 0 3 5 7 4 7 0 6 4 2 5 6 4 0 0 9 5 3 0 0 0 5 9 9 2 6 1\n",
            " 8 2 6 2 8 4 1 0 5 9 5 4 2 4 2 1 9 3 8 3 2 2 3 6 0 1 3 7 2 1 0 8 3 3 3 1 2\n",
            " 7 4 6 4 2 7 6 6 7 9 9 5 9 0 1 3 7 7 2 8 8 7 1 3 3 3 0 7 4 8 7 4 2 5 6 2 0\n",
            " 5 4 6 0 0 3 2 0 1 7 5 5 3 9 9 6 7 9 1 9 1 0 2 2 4 9 5 3 9 0 2 1 2 6 0 8 3\n",
            " 1 0 5 6 7 8 4 7 5 6 6 6 7 7 0 2 0 9 1 5 0 3 1 8 0 3 2 8 0 1 7 8 7 9 5 1 4\n",
            " 9 1 4 9 0 5 7 2 9 0 0 4 9 4 0 5 5 7 1 0 3 8 5 3 4 5 2 2 6 7 6 0 2 4 8 1 2\n",
            " 1 9 3 8 1 1 1 3 7 6 0 9 4 5 7 6 7 9 2 6 3 8 5 9 5 2 9 2 8 6 9 8 3 2 5 7 6\n",
            " 2 5 7 4 0 5 2 2 1 4 8 0 2 1 7 4 7 3 7 6 8 1 3 8 2 8 3 1 5 4 0 9 9 6 5 5 7\n",
            " 4 7 7 0 5 7 4 5 8 6 2 2 1 7 4 1 1 1 3 4 9 9]\n",
            "0.9851851851851852\n"
          ]
        }
      ]
    },
    {
      "cell_type": "code",
      "metadata": {
        "colab": {
          "base_uri": "https://localhost:8080/",
          "height": 280
        },
        "id": "jC4QKz_CqG68",
        "outputId": "eb4a578a-17c1-4170-ad7f-c9f4a85af336"
      },
      "source": [
        "import pandas as pd\n",
        "import numpy as np\n",
        "import os\n",
        "import matplotlib.pyplot as plt\n",
        "import seaborn as sns\n",
        "neighbors = np.arange(1, 9)\n",
        "train_accuracy = np.empty(len(neighbors))\n",
        "test_accuracy = np.empty(len(neighbors))\n",
        " \n",
        "# Loop over K values\n",
        "for i, k in enumerate(neighbors):\n",
        "    knn = KNeighborsClassifier(n_neighbors=k)\n",
        "    knn.fit(X_train, y_train)\n",
        "     \n",
        "    # Compute training and test data accuracy\n",
        "    train_accuracy[i] = knn.score(X_train, y_train)\n",
        "    test_accuracy[i] = knn.score(X_test, y_test)\n",
        " \n",
        "\n",
        "\n",
        " \n",
        "# Generate plot\n",
        "plt.plot(neighbors, test_accuracy, label = 'Testing dataset Accuracy')\n",
        "plt.plot(neighbors, train_accuracy, label = 'Training dataset Accuracy')\n",
        " \n",
        "plt.legend()\n",
        "plt.xlabel('n_neighbors')\n",
        "plt.ylabel('Accuracy')\n",
        "plt.show()\n",
        "\n",
        "\n"
      ],
      "execution_count": 12,
      "outputs": [
        {
          "output_type": "display_data",
          "data": {
            "image/png": "[encoded data removed]",
            "text/plain": [
              "<Figure size 432x288 with 1 Axes>"
            ]
          },
          "metadata": {
            "needs_background": "light"
          }
        }
      ]
    }
  ]
}